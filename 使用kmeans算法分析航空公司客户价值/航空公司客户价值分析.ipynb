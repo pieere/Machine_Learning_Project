{
 "cells": [
  {
   "cell_type": "code",
   "execution_count": null,
   "metadata": {},
   "outputs": [],
   "source": [
    "#coding:utf-8\n",
    "import pandas as pd\n",
    "#import numpy as np\n",
    "from sklearn.cluster import KMeans\n"
   ]
  },
  {
   "cell_type": "markdown",
   "metadata": {},
   "source": [
    "### 数据探索分析"
   ]
  },
  {
   "cell_type": "code",
   "execution_count": null,
   "metadata": {},
   "outputs": [],
   "source": [
    "#对数据进行基本探索，返回缺失值个数以及最大最小值\n",
    "datafile = 'air_data.csv'\n",
    "resultfile = 'explore.xls'\n",
    "data = pd.read_csv(datafile)\n",
    "\n",
    "explore = data.describe().T\n",
    "explore['null'] = len(data)-explore['count']\n",
    "explore = explore[['null', 'max', 'min']]\n",
    "explore.columns = ['空值数', '最大值', '最小值'] #表头重命名\n",
    "explore.columns\n",
    "#explore.to_excel(resultfile)"
   ]
  },
  {
   "cell_type": "markdown",
   "metadata": {},
   "source": [
    "### 数据预处理"
   ]
  },
  {
   "cell_type": "code",
   "execution_count": null,
   "metadata": {},
   "outputs": [],
   "source": [
    "#数据清洗,\n",
    "#丢弃票价为空的记录\n",
    "#丢弃票价为0，平均折扣率不为0，总飞行公里数大于0的记录\n",
    "#保留票价非空，或者平均折扣率与总飞行公里数同时为0的记录\n",
    "index1 = data['SUM_YR_1'] != 0\n",
    "index2 = data['SUM_YR_2'] != 0\n",
    "index3 = (data['SEG_KM_SUM'] == 0) & (data['avg_discount'] == 0)\n",
    "data = data[index1 | index2 | index3]\n",
    "data"
   ]
  },
  {
   "cell_type": "markdown",
   "metadata": {},
   "source": [
    "### 数据规约"
   ]
  },
  {
   "cell_type": "code",
   "execution_count": null,
   "metadata": {},
   "outputs": [],
   "source": [
    "#选择6个主要属性，删除不想关或冗余的属性\n",
    "data = data.loc[:, ['LOAD_TIME','FFP_DATE','LAST_TO_END','FLIGHT_COUNT','SEG_KM_SUM', 'avg_discount']]\n",
    "data.describe()"
   ]
  },
  {
   "cell_type": "markdown",
   "metadata": {},
   "source": [
    "### 数据变换"
   ]
  },
  {
   "cell_type": "code",
   "execution_count": null,
   "metadata": {},
   "outputs": [],
   "source": [
    "#会员入会时间长度\n",
    "data['LOAD_TIME'] = pd.to_datetime(data['LOAD_TIME'])\n",
    "data['FFP_DATE'] = pd.to_datetime(data['FFP_DATE'])\n",
    "L = data['LOAD_TIME'] - data['FFP_DATE']\n",
    "#最后一次乘坐飞机时间到现在的月数\n",
    "R = data['LAST_TO_END']\n",
    "#乘坐飞机次数\n",
    "F = data['FLIGHT_COUNT']\n",
    "#客户累计飞行里程\n",
    "M = data['SEG_KM_SUM']\n",
    "#平均折扣率\n",
    "C = data['avg_discount']\n",
    "data.describe()\n"
   ]
  },
  {
   "cell_type": "code",
   "execution_count": null,
   "metadata": {},
   "outputs": [],
   "source": [
    "#对数据进行标准化处理\n",
    "datafile = 'zscoredata.xls'\n",
    "data = pd.read_excel(datafile)\n",
    "data = (data-data.mean(axis=0)) / (data.std(axis=0))\n",
    "data.columns = ['Z'+ i for i in data.columns]"
   ]
  },
  {
   "cell_type": "markdown",
   "metadata": {},
   "source": [
    "### 模型构建"
   ]
  },
  {
   "cell_type": "code",
   "execution_count": null,
   "metadata": {},
   "outputs": [],
   "source": [
    "import matplotlib.pyplot as plt\n",
    "f=plt.figure()\n",
    "kmodel = KMeans(n_clusters = 5, n_jobs=-1)\n",
    "kmodel.fit(data)#训练模型\n",
    "\n",
    "kmodel.cluster_centers_#输出聚类中心\n",
    "kmodel.labels_#输出各样本对应的类别\n",
    "\n"
   ]
  },
  {
   "cell_type": "code",
   "execution_count": null,
   "metadata": {},
   "outputs": [],
   "source": [
    "\"\"\n",
    "\n",
    "\n",
    "\n",
    "\n",
    "\n",
    "\n",
    "\n",
    "\n",
    "\n",
    "\n",
    "\n",
    "\n",
    "\n",
    "\n",
    "\n",
    "\n",
    "\n",
    "\n",
    "\n",
    "\n",
    "\n",
    "\n",
    "\n",
    "\n",
    "\n",
    "\n",
    "\n",
    "\n",
    "\n",
    "\n",
    "\n",
    "\n",
    "\n"
   ]
  }
 ],
 "metadata": {
  "kernelspec": {
   "display_name": "Python 3",
   "language": "python",
   "name": "python3"
  },
  "language_info": {
   "codemirror_mode": {
    "name": "ipython",
    "version": 3
   },
   "file_extension": ".py",
   "mimetype": "text/x-python",
   "name": "python",
   "nbconvert_exporter": "python",
   "pygments_lexer": "ipython3",
   "version": "3.6.4"
  }
 },
 "nbformat": 4,
 "nbformat_minor": 2
}
